{
 "cells": [
  {
   "cell_type": "code",
   "execution_count": 1,
   "metadata": {},
   "outputs": [],
   "source": [
    "user = 'admin'\n",
    "passw = '123'"
   ]
  },
  {
   "cell_type": "code",
   "execution_count": 2,
   "metadata": {},
   "outputs": [
    {
     "name": "stdout",
     "output_type": "stream",
     "text": [
      "{\"car_make\":{\"0\":\"A\",\"1\":\"B\",\"2\":\"C\",\"3\":\"D\",\"4\":\"E\",\"5\":\"F\",\"6\":\"G\",\"7\":\"H\",\"8\":\"I\",\"9\":\"J\"},\"car_value\":{\"0\":46144.9306930693,\"1\":50383.3846153846,\"2\":48890.2941176471,\"3\":50650.4636363636,\"4\":49621.3936170213,\"5\":46137.6972477064,\"6\":46113.3666666667,\"7\":46126.3269230769,\"8\":45487.5357142857,\"9\":47992.9826086957}}\n"
     ]
    }
   ],
   "source": [
    "#test api\n",
    "import requests\n",
    "\n",
    "r = requests.get('http://127.0.0.1:5000/mediacarrosvalor', auth=(user, passw))\n",
    "print(r.text)\n"
   ]
  },
  {
   "cell_type": "code",
   "execution_count": 3,
   "metadata": {},
   "outputs": [
    {
     "name": "stdout",
     "output_type": "stream",
     "text": [
      "{\"car_make\":{\"0\":\"A\",\"1\":\"B\",\"2\":\"C\",\"3\":\"D\",\"4\":\"E\",\"5\":\"F\",\"6\":\"G\",\"7\":\"H\",\"8\":\"I\",\"9\":\"J\"},\"car_value\":{\"0\":46144.9306930693,\"1\":50383.3846153846,\"2\":48890.2941176471,\"3\":50650.4636363636,\"4\":49621.3936170213,\"5\":46137.6972477064,\"6\":46113.3666666667,\"7\":46126.3269230769,\"8\":45487.5357142857,\"9\":47992.9826086957}}\n"
     ]
    }
   ],
   "source": [
    "#test api\n",
    "import requests\n",
    "\n",
    "r = requests.get('http://192.168.1.4:5000/mediacarrosvalor', auth=(user, passw))\n",
    "print(r.text)"
   ]
  },
  {
   "cell_type": "code",
   "execution_count": 52,
   "metadata": {},
   "outputs": [
    {
     "name": "stdout",
     "output_type": "stream",
     "text": [
      "{\"car_make\":{\"1\":\"B\"},\"car_value\":{\"1\":50383.3846153846}}\n"
     ]
    }
   ],
   "source": [
    "r = requests.get('http://127.0.0.1:5000/mediafabricante?fabricante=B', auth=(user, passw))\n",
    "print(r.text)\n"
   ]
  },
  {
   "cell_type": "code",
   "execution_count": 51,
   "metadata": {},
   "outputs": [
    {
     "name": "stdout",
     "output_type": "stream",
     "text": [
      "{\"city\":{\"0\":\"C_01\",\"1\":\"C_02\",\"2\":\"C_03\",\"3\":\"C_04\",\"4\":\"C_05\",\"5\":\"C_06\",\"6\":\"C_07\"},\"car_value\":{\"0\":47869.2534246575,\"1\":46464.6746031746,\"2\":47706.176056338,\"3\":47865.8732394366,\"4\":48332.3834586466,\"5\":47592.4201183432,\"6\":48582.9366197183}}\n"
     ]
    }
   ],
   "source": [
    "r = requests.get('http://127.0.0.1:5000/mediacidades', auth=(user, passw))\n",
    "print(r.text)\n"
   ]
  },
  {
   "cell_type": "code",
   "execution_count": 50,
   "metadata": {},
   "outputs": [
    {
     "name": "stdout",
     "output_type": "stream",
     "text": [
      "{\"city\":{\"0\":\"C_01\"},\"car_value\":{\"0\":47869.2534246575}}\n"
     ]
    }
   ],
   "source": [
    "r = requests.get('http://127.0.0.1:5000/mediacarroscidade?carro=C_01', auth=(user, passw))\n",
    "print(r.text)\n"
   ]
  },
  {
   "cell_type": "code",
   "execution_count": null,
   "metadata": {},
   "outputs": [],
   "source": []
  }
 ],
 "metadata": {
  "kernelspec": {
   "display_name": "Python 3",
   "language": "python",
   "name": "python3"
  },
  "language_info": {
   "codemirror_mode": {
    "name": "ipython",
    "version": 3
   },
   "file_extension": ".py",
   "mimetype": "text/x-python",
   "name": "python",
   "nbconvert_exporter": "python",
   "pygments_lexer": "ipython3",
   "version": "3.8.3"
  }
 },
 "nbformat": 4,
 "nbformat_minor": 4
}
